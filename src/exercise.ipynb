{
 "cells": [
  {
   "cell_type": "code",
   "execution_count": 33,
   "metadata": {},
   "outputs": [],
   "source": [
    "import os\n",
    "from bs4 import BeautifulSoup\n",
    "import requests\n",
    "import time\n",
    "import sqlite3\n",
    "import matplotlib.pyplot as plt\n",
    "import seaborn as sns\n",
    "import pandas as pd"
   ]
  },
  {
   "cell_type": "markdown",
   "metadata": {},
   "source": [
    "Step 2: Download HTML"
   ]
  },
  {
   "cell_type": "code",
   "execution_count": 34,
   "metadata": {},
   "outputs": [],
   "source": [
    "url = \"https://companies-market-cap-copy.vercel.app/index.html\"\n",
    "response = requests.get(url)\n"
   ]
  },
  {
   "cell_type": "markdown",
   "metadata": {},
   "source": [
    "Step 3: Transform the HTML"
   ]
  },
  {
   "cell_type": "code",
   "execution_count": 35,
   "metadata": {},
   "outputs": [
    {
     "data": {
      "text/plain": [
       "[<table class=\"table\" style=\"width:100%\">\n",
       " <thead>\n",
       " <tr>\n",
       " <th>Year</th>\n",
       " <th>Revenue</th>\n",
       " <th>Change</th>\n",
       " </tr>\n",
       " </thead>\n",
       " <tbody>\n",
       " <tr><td><span class=\"year\">2024</span></td><td>$97.15 B</td><td class=\"percentage-green\">0.39%</td></tr><tr><td><span class=\"year\">2023</span> </td><td>$96.77 B</td><td class=\"percentage-green\">18.8%</td></tr><tr><td><span class=\"year\">2022</span></td><td>$81.46 B</td><td class=\"percentage-green\">51.35%</td></tr><tr><td><span class=\"year\">2021</span></td><td>$53.82 B</td><td class=\"percentage-green\">70.67%</td></tr><tr><td><span class=\"year\">2020</span></td><td>$31.53 B</td><td class=\"percentage-green\">28.31%</td></tr><tr><td><span class=\"year\">2019</span></td><td>$24.57 B</td><td class=\"percentage-green\">14.52%</td></tr><tr><td><span class=\"year\">2018</span></td><td>$21.46 B</td><td class=\"percentage-green\">82.51%</td></tr><tr><td><span class=\"year\">2017</span></td><td>$11.75 B</td><td class=\"percentage-green\">67.98%</td></tr><tr><td><span class=\"year\">2016</span></td><td>$7.00 B</td><td class=\"percentage-green\">73.01%</td></tr><tr><td><span class=\"year\">2015</span></td><td>$4.04 B</td><td class=\"percentage-green\">26.5%</td></tr><tr><td><span class=\"year\">2014</span></td><td>$3.19 B</td><td class=\"percentage-green\">58.85%</td></tr><tr><td><span class=\"year\">2013</span></td><td>$2.01 B</td><td class=\"percentage-green\">387.23%</td></tr><tr><td><span class=\"year\">2012</span></td><td>$0.41 B</td><td class=\"percentage-green\">102.34%</td></tr><tr><td><span class=\"year\">2011</span></td><td>$0.20 B</td><td class=\"percentage-green\">74.95%</td></tr><tr><td><span class=\"year\">2010</span></td><td>$0.11 B</td><td class=\"percentage-green\">4.29%</td></tr><tr><td><span class=\"year\">2009</span> </td><td>$0.11 B</td><td></td></tr> </tbody>\n",
       " </table>,\n",
       " <table class=\"table w-100\"> <thead> <tr> <th>Company</th> <th>Revenue</th> <th>Revenue <span class=\"responsive-hidden\">difference</span><span class=\"responsive-shown\">diff.</span></th> <th>Country</th> </tr> </thead> <tbody><tr><td class=\"name-td\"><a href=\"/apple/revenue/\" style=\"pointer-events: none;\"><div class=\"float-left pt-1\"></div><div class=\"name-div\"><div class=\"company-name\">Apple</div><div class=\"company-code\"><span class=\"rank d-none\"></span>AAPL</div></div></a></td></tr></tbody></table>]"
      ]
     },
     "execution_count": 35,
     "metadata": {},
     "output_type": "execute_result"
    }
   ],
   "source": [
    "soup = BeautifulSoup(response.text, \"html.parser\")\n",
    "\n",
    "tables = soup.find_all(\"table\")\n",
    "tables"
   ]
  },
  {
   "cell_type": "code",
   "execution_count": 36,
   "metadata": {},
   "outputs": [
    {
     "data": {
      "text/html": [
       "<div>\n",
       "<style scoped>\n",
       "    .dataframe tbody tr th:only-of-type {\n",
       "        vertical-align: middle;\n",
       "    }\n",
       "\n",
       "    .dataframe tbody tr th {\n",
       "        vertical-align: top;\n",
       "    }\n",
       "\n",
       "    .dataframe thead th {\n",
       "        text-align: right;\n",
       "    }\n",
       "</style>\n",
       "<table border=\"1\" class=\"dataframe\">\n",
       "  <thead>\n",
       "    <tr style=\"text-align: right;\">\n",
       "      <th></th>\n",
       "      <th>Year</th>\n",
       "      <th>Revenue</th>\n",
       "      <th>Change</th>\n",
       "    </tr>\n",
       "  </thead>\n",
       "  <tbody>\n",
       "    <tr>\n",
       "      <th>15</th>\n",
       "      <td>2009</td>\n",
       "      <td>0.11</td>\n",
       "      <td>NaN</td>\n",
       "    </tr>\n",
       "    <tr>\n",
       "      <th>14</th>\n",
       "      <td>2010</td>\n",
       "      <td>0.11</td>\n",
       "      <td>4.29</td>\n",
       "    </tr>\n",
       "    <tr>\n",
       "      <th>13</th>\n",
       "      <td>2011</td>\n",
       "      <td>0.20</td>\n",
       "      <td>74.95</td>\n",
       "    </tr>\n",
       "    <tr>\n",
       "      <th>12</th>\n",
       "      <td>2012</td>\n",
       "      <td>0.41</td>\n",
       "      <td>102.34</td>\n",
       "    </tr>\n",
       "    <tr>\n",
       "      <th>11</th>\n",
       "      <td>2013</td>\n",
       "      <td>2.01</td>\n",
       "      <td>387.23</td>\n",
       "    </tr>\n",
       "    <tr>\n",
       "      <th>10</th>\n",
       "      <td>2014</td>\n",
       "      <td>3.19</td>\n",
       "      <td>58.85</td>\n",
       "    </tr>\n",
       "    <tr>\n",
       "      <th>9</th>\n",
       "      <td>2015</td>\n",
       "      <td>4.04</td>\n",
       "      <td>26.50</td>\n",
       "    </tr>\n",
       "    <tr>\n",
       "      <th>8</th>\n",
       "      <td>2016</td>\n",
       "      <td>7.00</td>\n",
       "      <td>73.01</td>\n",
       "    </tr>\n",
       "    <tr>\n",
       "      <th>7</th>\n",
       "      <td>2017</td>\n",
       "      <td>11.75</td>\n",
       "      <td>67.98</td>\n",
       "    </tr>\n",
       "    <tr>\n",
       "      <th>6</th>\n",
       "      <td>2018</td>\n",
       "      <td>21.46</td>\n",
       "      <td>82.51</td>\n",
       "    </tr>\n",
       "    <tr>\n",
       "      <th>5</th>\n",
       "      <td>2019</td>\n",
       "      <td>24.57</td>\n",
       "      <td>14.52</td>\n",
       "    </tr>\n",
       "    <tr>\n",
       "      <th>4</th>\n",
       "      <td>2020</td>\n",
       "      <td>31.53</td>\n",
       "      <td>28.31</td>\n",
       "    </tr>\n",
       "    <tr>\n",
       "      <th>3</th>\n",
       "      <td>2021</td>\n",
       "      <td>53.82</td>\n",
       "      <td>70.67</td>\n",
       "    </tr>\n",
       "    <tr>\n",
       "      <th>2</th>\n",
       "      <td>2022</td>\n",
       "      <td>81.46</td>\n",
       "      <td>51.35</td>\n",
       "    </tr>\n",
       "    <tr>\n",
       "      <th>1</th>\n",
       "      <td>2023</td>\n",
       "      <td>96.77</td>\n",
       "      <td>18.80</td>\n",
       "    </tr>\n",
       "    <tr>\n",
       "      <th>0</th>\n",
       "      <td>2024</td>\n",
       "      <td>97.15</td>\n",
       "      <td>0.39</td>\n",
       "    </tr>\n",
       "  </tbody>\n",
       "</table>\n",
       "</div>"
      ],
      "text/plain": [
       "    Year  Revenue  Change\n",
       "15  2009     0.11     NaN\n",
       "14  2010     0.11    4.29\n",
       "13  2011     0.20   74.95\n",
       "12  2012     0.41  102.34\n",
       "11  2013     2.01  387.23\n",
       "10  2014     3.19   58.85\n",
       "9   2015     4.04   26.50\n",
       "8   2016     7.00   73.01\n",
       "7   2017    11.75   67.98\n",
       "6   2018    21.46   82.51\n",
       "5   2019    24.57   14.52\n",
       "4   2020    31.53   28.31\n",
       "3   2021    53.82   70.67\n",
       "2   2022    81.46   51.35\n",
       "1   2023    96.77   18.80\n",
       "0   2024    97.15    0.39"
      ]
     },
     "execution_count": 36,
     "metadata": {},
     "output_type": "execute_result"
    }
   ],
   "source": [
    "\n",
    "if tables:\n",
    "    table = tables[0]  \n",
    "    rows = table.find_all(\"tr\")\n",
    "\n",
    "    data_list = []\n",
    "    for row in rows:\n",
    "        cols = row.find_all(\"td\")\n",
    "        cols = [col.text.strip() for col in cols]\n",
    "        if cols:\n",
    "            data_list.append(cols)\n",
    "\n",
    "df"
   ]
  },
  {
   "cell_type": "markdown",
   "metadata": {},
   "source": [
    "Step 4: Process the DataFrame"
   ]
  },
  {
   "cell_type": "code",
   "execution_count": 37,
   "metadata": {},
   "outputs": [
    {
     "name": "stdout",
     "output_type": "stream",
     "text": [
      "    Year  Revenue  Change\n",
      "15  2009     0.11     NaN\n",
      "14  2010     0.11    4.29\n",
      "13  2011     0.20   74.95\n",
      "12  2012     0.41  102.34\n",
      "11  2013     2.01  387.23\n",
      "10  2014     3.19   58.85\n",
      "9   2015     4.04   26.50\n",
      "8   2016     7.00   73.01\n",
      "7   2017    11.75   67.98\n",
      "6   2018    21.46   82.51\n",
      "5   2019    24.57   14.52\n",
      "4   2020    31.53   28.31\n",
      "3   2021    53.82   70.67\n",
      "2   2022    81.46   51.35\n",
      "1   2023    96.77   18.80\n",
      "0   2024    97.15    0.39\n"
     ]
    }
   ],
   "source": [
    "df = pd.DataFrame(data_list, columns = [\"Year\", \"Revenue\" ,\"Change\"])\n",
    "\n",
    "df = df.sort_values(\"Year\")\n",
    "\n",
    "df[\"Revenue\"] = df[\"Revenue\"].str.replace('[$B]', '', regex = True)\n",
    "df[\"Revenue\"] = pd.to_numeric(df[\"Revenue\"])\n",
    "\n",
    "df[\"Change\"] = df[\"Change\"].str.replace('[%]', '', regex = True)\n",
    "df[\"Change\"] = pd.to_numeric(df[\"Change\"])\n",
    "\n",
    "'''df = df.dropna(subset=[\"Year\"])\n",
    "df = df.dropna(subset=[\"Revenue\"])\n",
    "df = df.dropna(subset=[\"Change\"])'''\n",
    "\n",
    "df.to_csv(\"tesla_data.csv\", index = False)\n",
    "\n",
    "print(df)"
   ]
  },
  {
   "cell_type": "markdown",
   "metadata": {},
   "source": [
    "Step 5: Store the data in sqlite"
   ]
  },
  {
   "cell_type": "code",
   "execution_count": 38,
   "metadata": {},
   "outputs": [],
   "source": [
    "conn = sqlite3.connect('tesla_data.db')\n",
    "cursor = conn.cursor()\n",
    "\n",
    "cursor.execute('''\n",
    "    CREATE TABLE IF NOT EXISTS revenue (\n",
    "               year TEXT,\n",
    "               revenue REAL,\n",
    "               change REAL\n",
    "               )\n",
    "''')\n",
    "\n",
    "for num, row in df.iterrows():\n",
    "    cursor.execute(\"INSERT INTO revenue (year, revenue, change) VALUES (?, ?, ?)\", (row[\"Year\"], row[\"Revenue\"], row[\"Change\"]))\n",
    "\n",
    "conn.commit()\n",
    "conn.close()"
   ]
  },
  {
   "cell_type": "markdown",
   "metadata": {},
   "source": [
    "Step 6: Visualize the data"
   ]
  },
  {
   "cell_type": "code",
   "execution_count": 39,
   "metadata": {},
   "outputs": [
    {
     "data": {
      "image/png": "[encoded data removed]",
      "text/plain": [
       "<Figure size 1000x600 with 1 Axes>"
      ]
     },
     "metadata": {},
     "output_type": "display_data"
    }
   ],
   "source": [
    "plt.figure(figsize=(10, 6))\n",
    "plt.plot(df[\"Year\"], df[\"Revenue\"], marker = \"o\", label = \"Revenue\")\n",
    "plt.title(\"Tesla annual revenue\")\n",
    "plt.xlabel(\"Date\")\n",
    "plt.ylabel(\"Revenue in billions (USD)\")\n",
    "plt.legend()\n",
    "plt.grid(True)\n",
    "\n",
    "plt.savefig(\"revenue.png\")\n",
    "plt.show()"
   ]
  }
 ],
 "metadata": {
  "kernelspec": {
   "display_name": "Python 3",
   "language": "python",
   "name": "python3"
  },
  "language_info": {
   "codemirror_mode": {
    "name": "ipython",
    "version": 3
   },
   "file_extension": ".py",
   "mimetype": "text/x-python",
   "name": "python",
   "nbconvert_exporter": "python",
   "pygments_lexer": "ipython3",
   "version": "3.11.4"
  }
 },
 "nbformat": 4,
 "nbformat_minor": 2
}
